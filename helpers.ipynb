{
 "cells": [
  {
   "cell_type": "code",
   "execution_count": 1,
   "metadata": {},
   "outputs": [],
   "source": [
    "import numpy as np\n",
    "import os\n",
    "import pandas as pd\n",
    "import matplotlib.pyplot as plt"
   ]
  },
  {
   "cell_type": "code",
   "execution_count": 6,
   "metadata": {},
   "outputs": [],
   "source": [
    "def imshow(image,n):\n",
    "    return plt.imshow(image[n,:,:,0],cmap='Greys')"
   ]
  },
  {
   "cell_type": "code",
   "execution_count": 7,
   "metadata": {},
   "outputs": [],
   "source": [
    "def get_np(inp_path):\n",
    "    data = np.load(inp_path)\n",
    "    data = data/255\n",
    "    data = data.reshape(data.shape[0],28,28,1)\n",
    "    return data"
   ]
  },
  {
   "cell_type": "code",
   "execution_count": 2,
   "metadata": {},
   "outputs": [],
   "source": [
    "def get_callbacks():\n",
    "    from tensorflow.keras.callbacks import ModelCheckpoint,TensorBoard\n",
    "    from time import time\n",
    "    checkpoint = ModelCheckpoint(\"output/\", monitor='val_acc', verbose=1, save_best_only=True, mode='max')\n",
    "    tboard = TensorBoard(log_dir=\"output/logs/disc/{}\".format(time()), histogram_freq=1, write_graph=True, write_images=True)\n",
    "    return [checkpoint,tboard]\n"
   ]
  },
  {
   "cell_type": "code",
   "execution_count": null,
   "metadata": {},
   "outputs": [],
   "source": []
  }
 ],
 "metadata": {
  "kernelspec": {
   "display_name": "Python 3",
   "language": "python",
   "name": "python3"
  },
  "language_info": {
   "codemirror_mode": {
    "name": "ipython",
    "version": 3
   },
   "file_extension": ".py",
   "mimetype": "text/x-python",
   "name": "python",
   "nbconvert_exporter": "python",
   "pygments_lexer": "ipython3",
   "version": "3.7.2"
  }
 },
 "nbformat": 4,
 "nbformat_minor": 2
}
